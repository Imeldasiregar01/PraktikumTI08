{
  "nbformat": 4,
  "nbformat_minor": 0,
  "metadata": {
    "colab": {
      "provenance": [],
      "authorship_tag": "ABX9TyORS28NrsCA3S0JRDh/Nrq6",
      "include_colab_link": true
    },
    "kernelspec": {
      "name": "python3",
      "display_name": "Python 3"
    },
    "language_info": {
      "name": "python"
    }
  },
  "cells": [
    {
      "cell_type": "markdown",
      "metadata": {
        "id": "view-in-github",
        "colab_type": "text"
      },
      "source": [
        "<a href=\"https://colab.research.google.com/github/Imeldasiregar01/PraktikumTI08/blob/main/Untitled0.ipynb\" target=\"_parent\"><img src=\"https://colab.research.google.com/assets/colab-badge.svg\" alt=\"Open In Colab\"/></a>"
      ]
    },
    {
      "cell_type": "code",
      "execution_count": 7,
      "metadata": {
        "colab": {
          "base_uri": "https://localhost:8080/"
        },
        "id": "AodAZfc5VMvz",
        "outputId": "d273f5a7-cbc1-42f9-be09-7a987c56b252"
      },
      "outputs": [
        {
          "output_type": "stream",
          "name": "stdout",
          "text": [
            "69\n",
            "319\n",
            "485\n",
            "507\n",
            "547\n",
            "83\n",
            "165\n",
            "141\n",
            "501\n",
            "263\n",
            "219\n",
            "105\n",
            "47\n",
            "375\n",
            "345\n",
            "399\n",
            "219\n",
            "237\n",
            "217\n",
            "67\n",
            "553\n",
            "81\n",
            "379\n",
            "445\n",
            "451\n",
            "93\n",
            "527\n",
            "*\n",
            "**\n",
            "***\n",
            "****\n",
            "*****\n",
            "\n",
            "1 + 3 + 5 + 7 + 9 + 11 + 13 + 15 + 17 + 19 = 100\n"
          ]
        }
      ],
      "source": [
        "numbers = [\n",
        "    951, 402, 984, 651, 360, 69, 408, 319, 601, 485, 980, 507, 725, 547, 544,  615, 83, 165, 141, 501, 263, 617, 865, 575, 219, 390, 984, 592, 236, 105, 942, 941,  386, 462, 47, 418, 907, 344, 236, 375, 823, 566, 597, 978, 328, 615, 953, 345,  399, 162, 758, 219, 918, 237, 412, 566, 826, 248, 866, 950, 626, 949, 687, 217, 815, 67, 104, 58, 512, 24, 892, 894, 767, 553, 81, 379, 843, 831, 445, 742, 717, 958, 609, 842, 451, 688, 753, 854, 685, 93, 857, 440, 380, 126, 721, 328, 753, 470, 743, 527\n",
        "]\n",
        "\n",
        "a = 0\n",
        "b = 553\n",
        "# Loop while untuk mencetak bilangan ganjil hingga melewati 553\n",
        "while a < len(numbers):\n",
        "    if numbers[a] % 2 != 0 and numbers[a] <= b:\n",
        "        print(numbers[a])\n",
        "    a += 1\n",
        "\n",
        "\n",
        "# while i < len(numbers):\n",
        "#     print(numbers)\n",
        "#     if numbers == 553:\n",
        "#             break\n",
        "\n",
        "# loop untuk membuat pola\n",
        "for i in range(1, 5 + 1):\n",
        "    for j in range(i):\n",
        "        print(\"*\", end=\"\")\n",
        "    print()  # Pindah ke baris baru\n",
        "\n",
        "print()\n",
        "# Inisialisasi variabel untuk menyimpan hasil penjumlahan\n",
        "total = 0\n",
        "\n",
        "# Loop untuk bilangan ganjil dari 1 hingga 19 dengan langkah 2\n",
        "for i in range(1, 20, 2):\n",
        "    total += i\n",
        "\n",
        "# Menampilkan hasil penjumlahan\n",
        "print(\"1 + 3 + 5 + 7 + 9 + 11 + 13 + 15 + 17 + 19 =\", total)"
      ]
    }
  ]
}