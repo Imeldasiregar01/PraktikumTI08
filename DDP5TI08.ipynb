{
  "nbformat": 4,
  "nbformat_minor": 0,
  "metadata": {
    "colab": {
      "provenance": [],
      "authorship_tag": "ABX9TyPLeG3OL1Hh2cW4hsr+PUt3",
      "include_colab_link": true
    },
    "kernelspec": {
      "name": "python3",
      "display_name": "Python 3"
    },
    "language_info": {
      "name": "python"
    }
  },
  "cells": [
    {
      "cell_type": "markdown",
      "metadata": {
        "id": "view-in-github",
        "colab_type": "text"
      },
      "source": [
        "<a href=\"https://colab.research.google.com/github/Imeldasiregar01/PraktikumTI08/blob/main/DDP5TI08.ipynb\" target=\"_parent\"><img src=\"https://colab.research.google.com/assets/colab-badge.svg\" alt=\"Open In Colab\"/></a>"
      ]
    },
    {
      "cell_type": "code",
      "execution_count": null,
      "metadata": {
        "colab": {
          "base_uri": "https://localhost:8080/"
        },
        "id": "aF53kqN_WrX8",
        "outputId": "c6232778-2886-49f4-85e1-d1c72a336369"
      },
      "outputs": [
        {
          "output_type": "stream",
          "name": "stdout",
          "text": [
            "['BK 3456 yu', 'Honda', 'Honda', 'CB150R', '160', 'Hitam', 'RP.19.000.000', 2]\n"
          ]
        }
      ],
      "source": [
        "#no1\n",
        "kendaraan=[\"BK 3456 yu\", \"Honda\", \"160\", \"Hitam\"]\n",
        "#no2\n",
        "kendaraan.append(\"RP.19.000.000\")\n",
        "kendaraan.append(2)\n",
        "kendaraan.insert(2, \"Honda\")\n",
        "kendaraan.insert(3, \"CB150R\")\n",
        "print (kendaraan)\n",
        "#no3\n",
        "#3 buat program dengan bahasa pyhton dengan match case untuk menghitung luas bangun datar\n",
        "luas= input(\"Masukan luas (1. persegi, 2. lingkaran, 3. segitiga)\")\n",
        "\n",
        "match luas:\n",
        "    case \"1\"|\"persegi\":\n",
        "        sisi=int(input(\"masukan nilai sisi persegi\"))\n",
        "        luas=sisi*sisi\n",
        "        print(luas)\n",
        "    case \"2\"|\"lingkaran\":\n",
        "        jarijari=int(input(\"masukan nilai jarijari\"))\n",
        "        luas=3.14*jarijari**2\n",
        "        print(luas)\n",
        "    case \"3\"|\"segitiga\"|\"segitiga\":\n",
        "        alas=int(input(\"masukan nilai alas:\"))\n",
        "        tinggi=int(input(\"masukan nilai tinggi:\"))\n",
        "        luas=alas*tinggi/2\n",
        "        print(luas)\n",
        "    case _:\n",
        "        print(\"coba lagi\")"
      ]
    }
  ]
}